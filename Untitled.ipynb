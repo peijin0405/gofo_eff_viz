{
 "cells": [
  {
   "cell_type": "code",
   "execution_count": 6,
   "id": "bfa9b8af-7b41-4e9d-af4f-84a477cde661",
   "metadata": {
    "scrolled": true
   },
   "outputs": [],
   "source": [
    "import pandas as pd\n",
    "import matplotlib.pyplot as plt\n",
    "import pandas as pd\n",
    "import plotly.graph_objects as go\n",
    "from plotly.subplots import make_subplots\n",
    "\n",
    "# 原始数据\n",
    "data = {\n",
    "    '日期': ['8月4日', '8月5日', '8月6日', '8月7日'],\n",
    "    '总集包票数': [120854, 91453, 93651, 73945],\n",
    "    '错分票数': [25, 47, None, 38],\n",
    "    'JOY工时': [393, 498.24, 533, 672],\n",
    "    'DELIN工时': [348, 341, 341, 325],\n",
    "    '分拣机分拣量': [85451, 51913, 62249, 71667]\n",
    "}\n",
    "\n",
    "# 转为 DataFrame\n",
    "df = pd.DataFrame(data)\n",
    "\n",
    "# 保存为 UTF-8 编码的 CSV\n",
    "#df.to_csv('data.csv', index=False, encoding='utf-8-sig')\n",
    "\n",
    "#print(\"CSV 文件已保存为 data.csv，并采用 UTF-8 编码。\")\n",
    "\n"
   ]
  },
  {
   "cell_type": "code",
   "execution_count": null,
   "id": "033321d0-1c2c-486b-b4a3-41e7ec89b7b2",
   "metadata": {},
   "outputs": [],
   "source": []
  },
  {
   "cell_type": "code",
   "execution_count": 8,
   "id": "00ddaffc-8372-4157-937a-1a6ec68c4f17",
   "metadata": {},
   "outputs": [],
   "source": [
    "df = pd.read_csv(\"data.csv\", encoding=\"utf-8\")  # encoding 取决于文件编码"
   ]
  },
  {
   "cell_type": "code",
   "execution_count": 12,
   "id": "40946d9c-d95e-4256-8972-b55218de5ea8",
   "metadata": {},
   "outputs": [],
   "source": [
    "df['日期'] = pd.to_datetime(df['日期'], format=\"%m月%d日\")\n",
    "df['日期'] = df['日期'].apply(lambda d: d.replace(year=2025))"
   ]
  },
  {
   "cell_type": "code",
   "execution_count": 13,
   "id": "d9c63c26-1cea-4c1a-8325-172790f2d9f2",
   "metadata": {},
   "outputs": [
    {
     "data": {
      "text/html": [
       "<div>\n",
       "<style scoped>\n",
       "    .dataframe tbody tr th:only-of-type {\n",
       "        vertical-align: middle;\n",
       "    }\n",
       "\n",
       "    .dataframe tbody tr th {\n",
       "        vertical-align: top;\n",
       "    }\n",
       "\n",
       "    .dataframe thead th {\n",
       "        text-align: right;\n",
       "    }\n",
       "</style>\n",
       "<table border=\"1\" class=\"dataframe\">\n",
       "  <thead>\n",
       "    <tr style=\"text-align: right;\">\n",
       "      <th></th>\n",
       "      <th>日期</th>\n",
       "      <th>总集包票数</th>\n",
       "      <th>错分票数</th>\n",
       "      <th>JOY工时</th>\n",
       "      <th>DELIN工时</th>\n",
       "      <th>分拣机分拣量</th>\n",
       "    </tr>\n",
       "  </thead>\n",
       "  <tbody>\n",
       "    <tr>\n",
       "      <th>0</th>\n",
       "      <td>2025-08-04</td>\n",
       "      <td>120854</td>\n",
       "      <td>25.0</td>\n",
       "      <td>393.00</td>\n",
       "      <td>348</td>\n",
       "      <td>85451</td>\n",
       "    </tr>\n",
       "    <tr>\n",
       "      <th>1</th>\n",
       "      <td>2025-08-05</td>\n",
       "      <td>91453</td>\n",
       "      <td>47.0</td>\n",
       "      <td>498.24</td>\n",
       "      <td>341</td>\n",
       "      <td>51913</td>\n",
       "    </tr>\n",
       "    <tr>\n",
       "      <th>2</th>\n",
       "      <td>2025-08-06</td>\n",
       "      <td>93651</td>\n",
       "      <td>NaN</td>\n",
       "      <td>533.00</td>\n",
       "      <td>341</td>\n",
       "      <td>62249</td>\n",
       "    </tr>\n",
       "    <tr>\n",
       "      <th>3</th>\n",
       "      <td>2025-08-07</td>\n",
       "      <td>73945</td>\n",
       "      <td>38.0</td>\n",
       "      <td>672.00</td>\n",
       "      <td>325</td>\n",
       "      <td>71667</td>\n",
       "    </tr>\n",
       "  </tbody>\n",
       "</table>\n",
       "</div>"
      ],
      "text/plain": [
       "          日期   总集包票数  错分票数   JOY工时  DELIN工时  分拣机分拣量\n",
       "0 2025-08-04  120854  25.0  393.00      348   85451\n",
       "1 2025-08-05   91453  47.0  498.24      341   51913\n",
       "2 2025-08-06   93651   NaN  533.00      341   62249\n",
       "3 2025-08-07   73945  38.0  672.00      325   71667"
      ]
     },
     "execution_count": 13,
     "metadata": {},
     "output_type": "execute_result"
    }
   ],
   "source": [
    "df.head()"
   ]
  },
  {
   "cell_type": "code",
   "execution_count": 3,
   "id": "8ce3b188-cbec-443d-afca-d7f2eef5ba93",
   "metadata": {},
   "outputs": [
    {
     "data": {
      "text/html": [
       "<div>\n",
       "<style scoped>\n",
       "    .dataframe tbody tr th:only-of-type {\n",
       "        vertical-align: middle;\n",
       "    }\n",
       "\n",
       "    .dataframe tbody tr th {\n",
       "        vertical-align: top;\n",
       "    }\n",
       "\n",
       "    .dataframe thead th {\n",
       "        text-align: right;\n",
       "    }\n",
       "</style>\n",
       "<table border=\"1\" class=\"dataframe\">\n",
       "  <thead>\n",
       "    <tr style=\"text-align: right;\">\n",
       "      <th></th>\n",
       "      <th>日期</th>\n",
       "      <th>总集包票数</th>\n",
       "      <th>错分票数</th>\n",
       "      <th>JOY工时</th>\n",
       "      <th>DELIN工时</th>\n",
       "      <th>分拣机分拣量</th>\n",
       "      <th>错分率(%)</th>\n",
       "      <th>总工时</th>\n",
       "      <th>人效(票/小时)</th>\n",
       "      <th>人工分拣量</th>\n",
       "    </tr>\n",
       "  </thead>\n",
       "  <tbody>\n",
       "    <tr>\n",
       "      <th>0</th>\n",
       "      <td>8月4日</td>\n",
       "      <td>120854</td>\n",
       "      <td>25.0</td>\n",
       "      <td>393.00</td>\n",
       "      <td>348</td>\n",
       "      <td>85451</td>\n",
       "      <td>0.020686</td>\n",
       "      <td>741.00</td>\n",
       "      <td>163.095816</td>\n",
       "      <td>35403</td>\n",
       "    </tr>\n",
       "    <tr>\n",
       "      <th>1</th>\n",
       "      <td>8月5日</td>\n",
       "      <td>91453</td>\n",
       "      <td>47.0</td>\n",
       "      <td>498.24</td>\n",
       "      <td>341</td>\n",
       "      <td>51913</td>\n",
       "      <td>0.051393</td>\n",
       "      <td>839.24</td>\n",
       "      <td>108.971212</td>\n",
       "      <td>39540</td>\n",
       "    </tr>\n",
       "    <tr>\n",
       "      <th>2</th>\n",
       "      <td>8月6日</td>\n",
       "      <td>93651</td>\n",
       "      <td>NaN</td>\n",
       "      <td>533.00</td>\n",
       "      <td>341</td>\n",
       "      <td>62249</td>\n",
       "      <td>NaN</td>\n",
       "      <td>874.00</td>\n",
       "      <td>107.152174</td>\n",
       "      <td>31402</td>\n",
       "    </tr>\n",
       "    <tr>\n",
       "      <th>3</th>\n",
       "      <td>8月7日</td>\n",
       "      <td>73945</td>\n",
       "      <td>38.0</td>\n",
       "      <td>672.00</td>\n",
       "      <td>325</td>\n",
       "      <td>71667</td>\n",
       "      <td>0.051390</td>\n",
       "      <td>997.00</td>\n",
       "      <td>74.167503</td>\n",
       "      <td>2278</td>\n",
       "    </tr>\n",
       "  </tbody>\n",
       "</table>\n",
       "</div>"
      ],
      "text/plain": [
       "     日期   总集包票数  错分票数   JOY工时  DELIN工时  分拣机分拣量    错分率(%)     总工时    人效(票/小时)  \\\n",
       "0  8月4日  120854  25.0  393.00      348   85451  0.020686  741.00  163.095816   \n",
       "1  8月5日   91453  47.0  498.24      341   51913  0.051393  839.24  108.971212   \n",
       "2  8月6日   93651   NaN  533.00      341   62249       NaN  874.00  107.152174   \n",
       "3  8月7日   73945  38.0  672.00      325   71667  0.051390  997.00   74.167503   \n",
       "\n",
       "   人工分拣量  \n",
       "0  35403  \n",
       "1  39540  \n",
       "2  31402  \n",
       "3   2278  "
      ]
     },
     "execution_count": 3,
     "metadata": {},
     "output_type": "execute_result"
    }
   ],
   "source": [
    "# 计算错分率、人效、人工分拣量\n",
    "df['错分率(%)'] = df['错分票数'] / df['总集包票数'] * 100\n",
    "df['总工时'] = df['JOY工时'] + df['DELIN工时']\n",
    "df['人效(票/小时)'] = df['总集包票数'] / df['总工时']\n",
    "df['人工分拣量'] = df['总集包票数'] - df['分拣机分拣量']\n",
    "\n",
    "df.head()"
   ]
  },
  {
   "cell_type": "code",
   "execution_count": 5,
   "id": "f3ac53c9-88e1-4aa1-a476-79a647010181",
   "metadata": {
    "scrolled": true
   },
   "outputs": [
    {
     "data": {
      "application/vnd.plotly.v1+json": {
       "config": {
        "plotlyServerURL": "https://plot.ly"
       },
       "data": [
        {
         "marker": {
          "color": "skyblue"
         },
         "name": "总集包票数",
         "type": "bar",
         "x": [
          "8月4日",
          "8月5日",
          "8月6日",
          "8月7日"
         ],
         "xaxis": "x",
         "y": {
          "bdata": "FtgBAD1lAQDTbQEA2SABAA==",
          "dtype": "i4"
         },
         "yaxis": "y"
        },
        {
         "line": {
          "color": "red"
         },
         "mode": "lines+markers",
         "name": "错分率(%)",
         "type": "scatter",
         "x": [
          "8月4日",
          "8月5日",
          "8月6日",
          "8月7日"
         ],
         "xaxis": "x",
         "y": {
          "bdata": "u2JF0r0ulT9sAvbEHlCqPwAAAAAAAPh/qKlLCbtPqj8=",
          "dtype": "f8"
         },
         "yaxis": "y2"
        },
        {
         "marker": {
          "color": "orange"
         },
         "name": "JOY工时",
         "type": "bar",
         "x": [
          "8月4日",
          "8月5日",
          "8月6日",
          "8月7日"
         ],
         "xaxis": "x2",
         "y": {
          "bdata": "AAAAAACQeECkcD0K1yN/QAAAAAAAqIBAAAAAAAAAhUA=",
          "dtype": "f8"
         },
         "yaxis": "y3"
        },
        {
         "marker": {
          "color": "green"
         },
         "name": "DELIN工时",
         "type": "bar",
         "x": [
          "8月4日",
          "8月5日",
          "8月6日",
          "8月7日"
         ],
         "xaxis": "x2",
         "y": {
          "bdata": "XAFVAVUBRQE=",
          "dtype": "i2"
         },
         "yaxis": "y3"
        },
        {
         "line": {
          "color": "blue"
         },
         "mode": "lines+markers",
         "name": "人效(票/小时)",
         "type": "scatter",
         "x": [
          "8月4日",
          "8月5日",
          "8月6日",
          "8月7日"
         ],
         "xaxis": "x2",
         "y": {
          "bdata": "MYqw7RBjZEAC+5RWKD5bQN/0pje9yVpArfNvXLiKUkA=",
          "dtype": "f8"
         },
         "yaxis": "y4"
        },
        {
         "marker": {
          "color": "coral"
         },
         "name": "人工分拣量",
         "type": "bar",
         "x": [
          "8月4日",
          "8月5日",
          "8月6日",
          "8月7日"
         ],
         "xaxis": "x3",
         "y": {
          "bdata": "S4oAAHSaAACqegAA5ggAAA==",
          "dtype": "i4"
         },
         "yaxis": "y5"
        },
        {
         "marker": {
          "color": "skyblue"
         },
         "name": "分拣机分拣量",
         "type": "bar",
         "x": [
          "8月4日",
          "8月5日",
          "8月6日",
          "8月7日"
         ],
         "xaxis": "x3",
         "y": {
          "bdata": "y00BAMnKAAAp8wAA8xcBAA==",
          "dtype": "i4"
         },
         "yaxis": "y5"
        }
       ],
       "layout": {
        "annotations": [
         {
          "font": {
           "size": 16
          },
          "showarrow": false,
          "text": "每日分拣总量 & 错分率",
          "x": 0.47,
          "xanchor": "center",
          "xref": "paper",
          "y": 1,
          "yanchor": "bottom",
          "yref": "paper"
         },
         {
          "font": {
           "size": 16
          },
          "showarrow": false,
          "text": "每日工时 & 人效趋势",
          "x": 0.47,
          "xanchor": "center",
          "xref": "paper",
          "y": 0.6111111111111112,
          "yanchor": "bottom",
          "yref": "paper"
         },
         {
          "font": {
           "size": 16
          },
          "showarrow": false,
          "text": "人工 vs 机器分拣量",
          "x": 0.47,
          "xanchor": "center",
          "xref": "paper",
          "y": 0.22222222222222224,
          "yanchor": "bottom",
          "yref": "paper"
         }
        ],
        "barmode": "stack",
        "height": 900,
        "template": {
         "data": {
          "bar": [
           {
            "error_x": {
             "color": "#2a3f5f"
            },
            "error_y": {
             "color": "#2a3f5f"
            },
            "marker": {
             "line": {
              "color": "#E5ECF6",
              "width": 0.5
             },
             "pattern": {
              "fillmode": "overlay",
              "size": 10,
              "solidity": 0.2
             }
            },
            "type": "bar"
           }
          ],
          "barpolar": [
           {
            "marker": {
             "line": {
              "color": "#E5ECF6",
              "width": 0.5
             },
             "pattern": {
              "fillmode": "overlay",
              "size": 10,
              "solidity": 0.2
             }
            },
            "type": "barpolar"
           }
          ],
          "carpet": [
           {
            "aaxis": {
             "endlinecolor": "#2a3f5f",
             "gridcolor": "white",
             "linecolor": "white",
             "minorgridcolor": "white",
             "startlinecolor": "#2a3f5f"
            },
            "baxis": {
             "endlinecolor": "#2a3f5f",
             "gridcolor": "white",
             "linecolor": "white",
             "minorgridcolor": "white",
             "startlinecolor": "#2a3f5f"
            },
            "type": "carpet"
           }
          ],
          "choropleth": [
           {
            "colorbar": {
             "outlinewidth": 0,
             "ticks": ""
            },
            "type": "choropleth"
           }
          ],
          "contour": [
           {
            "colorbar": {
             "outlinewidth": 0,
             "ticks": ""
            },
            "colorscale": [
             [
              0,
              "#0d0887"
             ],
             [
              0.1111111111111111,
              "#46039f"
             ],
             [
              0.2222222222222222,
              "#7201a8"
             ],
             [
              0.3333333333333333,
              "#9c179e"
             ],
             [
              0.4444444444444444,
              "#bd3786"
             ],
             [
              0.5555555555555556,
              "#d8576b"
             ],
             [
              0.6666666666666666,
              "#ed7953"
             ],
             [
              0.7777777777777778,
              "#fb9f3a"
             ],
             [
              0.8888888888888888,
              "#fdca26"
             ],
             [
              1,
              "#f0f921"
             ]
            ],
            "type": "contour"
           }
          ],
          "contourcarpet": [
           {
            "colorbar": {
             "outlinewidth": 0,
             "ticks": ""
            },
            "type": "contourcarpet"
           }
          ],
          "heatmap": [
           {
            "colorbar": {
             "outlinewidth": 0,
             "ticks": ""
            },
            "colorscale": [
             [
              0,
              "#0d0887"
             ],
             [
              0.1111111111111111,
              "#46039f"
             ],
             [
              0.2222222222222222,
              "#7201a8"
             ],
             [
              0.3333333333333333,
              "#9c179e"
             ],
             [
              0.4444444444444444,
              "#bd3786"
             ],
             [
              0.5555555555555556,
              "#d8576b"
             ],
             [
              0.6666666666666666,
              "#ed7953"
             ],
             [
              0.7777777777777778,
              "#fb9f3a"
             ],
             [
              0.8888888888888888,
              "#fdca26"
             ],
             [
              1,
              "#f0f921"
             ]
            ],
            "type": "heatmap"
           }
          ],
          "histogram": [
           {
            "marker": {
             "pattern": {
              "fillmode": "overlay",
              "size": 10,
              "solidity": 0.2
             }
            },
            "type": "histogram"
           }
          ],
          "histogram2d": [
           {
            "colorbar": {
             "outlinewidth": 0,
             "ticks": ""
            },
            "colorscale": [
             [
              0,
              "#0d0887"
             ],
             [
              0.1111111111111111,
              "#46039f"
             ],
             [
              0.2222222222222222,
              "#7201a8"
             ],
             [
              0.3333333333333333,
              "#9c179e"
             ],
             [
              0.4444444444444444,
              "#bd3786"
             ],
             [
              0.5555555555555556,
              "#d8576b"
             ],
             [
              0.6666666666666666,
              "#ed7953"
             ],
             [
              0.7777777777777778,
              "#fb9f3a"
             ],
             [
              0.8888888888888888,
              "#fdca26"
             ],
             [
              1,
              "#f0f921"
             ]
            ],
            "type": "histogram2d"
           }
          ],
          "histogram2dcontour": [
           {
            "colorbar": {
             "outlinewidth": 0,
             "ticks": ""
            },
            "colorscale": [
             [
              0,
              "#0d0887"
             ],
             [
              0.1111111111111111,
              "#46039f"
             ],
             [
              0.2222222222222222,
              "#7201a8"
             ],
             [
              0.3333333333333333,
              "#9c179e"
             ],
             [
              0.4444444444444444,
              "#bd3786"
             ],
             [
              0.5555555555555556,
              "#d8576b"
             ],
             [
              0.6666666666666666,
              "#ed7953"
             ],
             [
              0.7777777777777778,
              "#fb9f3a"
             ],
             [
              0.8888888888888888,
              "#fdca26"
             ],
             [
              1,
              "#f0f921"
             ]
            ],
            "type": "histogram2dcontour"
           }
          ],
          "mesh3d": [
           {
            "colorbar": {
             "outlinewidth": 0,
             "ticks": ""
            },
            "type": "mesh3d"
           }
          ],
          "parcoords": [
           {
            "line": {
             "colorbar": {
              "outlinewidth": 0,
              "ticks": ""
             }
            },
            "type": "parcoords"
           }
          ],
          "pie": [
           {
            "automargin": true,
            "type": "pie"
           }
          ],
          "scatter": [
           {
            "fillpattern": {
             "fillmode": "overlay",
             "size": 10,
             "solidity": 0.2
            },
            "type": "scatter"
           }
          ],
          "scatter3d": [
           {
            "line": {
             "colorbar": {
              "outlinewidth": 0,
              "ticks": ""
             }
            },
            "marker": {
             "colorbar": {
              "outlinewidth": 0,
              "ticks": ""
             }
            },
            "type": "scatter3d"
           }
          ],
          "scattercarpet": [
           {
            "marker": {
             "colorbar": {
              "outlinewidth": 0,
              "ticks": ""
             }
            },
            "type": "scattercarpet"
           }
          ],
          "scattergeo": [
           {
            "marker": {
             "colorbar": {
              "outlinewidth": 0,
              "ticks": ""
             }
            },
            "type": "scattergeo"
           }
          ],
          "scattergl": [
           {
            "marker": {
             "colorbar": {
              "outlinewidth": 0,
              "ticks": ""
             }
            },
            "type": "scattergl"
           }
          ],
          "scattermap": [
           {
            "marker": {
             "colorbar": {
              "outlinewidth": 0,
              "ticks": ""
             }
            },
            "type": "scattermap"
           }
          ],
          "scattermapbox": [
           {
            "marker": {
             "colorbar": {
              "outlinewidth": 0,
              "ticks": ""
             }
            },
            "type": "scattermapbox"
           }
          ],
          "scatterpolar": [
           {
            "marker": {
             "colorbar": {
              "outlinewidth": 0,
              "ticks": ""
             }
            },
            "type": "scatterpolar"
           }
          ],
          "scatterpolargl": [
           {
            "marker": {
             "colorbar": {
              "outlinewidth": 0,
              "ticks": ""
             }
            },
            "type": "scatterpolargl"
           }
          ],
          "scatterternary": [
           {
            "marker": {
             "colorbar": {
              "outlinewidth": 0,
              "ticks": ""
             }
            },
            "type": "scatterternary"
           }
          ],
          "surface": [
           {
            "colorbar": {
             "outlinewidth": 0,
             "ticks": ""
            },
            "colorscale": [
             [
              0,
              "#0d0887"
             ],
             [
              0.1111111111111111,
              "#46039f"
             ],
             [
              0.2222222222222222,
              "#7201a8"
             ],
             [
              0.3333333333333333,
              "#9c179e"
             ],
             [
              0.4444444444444444,
              "#bd3786"
             ],
             [
              0.5555555555555556,
              "#d8576b"
             ],
             [
              0.6666666666666666,
              "#ed7953"
             ],
             [
              0.7777777777777778,
              "#fb9f3a"
             ],
             [
              0.8888888888888888,
              "#fdca26"
             ],
             [
              1,
              "#f0f921"
             ]
            ],
            "type": "surface"
           }
          ],
          "table": [
           {
            "cells": {
             "fill": {
              "color": "#EBF0F8"
             },
             "line": {
              "color": "white"
             }
            },
            "header": {
             "fill": {
              "color": "#C8D4E3"
             },
             "line": {
              "color": "white"
             }
            },
            "type": "table"
           }
          ]
         },
         "layout": {
          "annotationdefaults": {
           "arrowcolor": "#2a3f5f",
           "arrowhead": 0,
           "arrowwidth": 1
          },
          "autotypenumbers": "strict",
          "coloraxis": {
           "colorbar": {
            "outlinewidth": 0,
            "ticks": ""
           }
          },
          "colorscale": {
           "diverging": [
            [
             0,
             "#8e0152"
            ],
            [
             0.1,
             "#c51b7d"
            ],
            [
             0.2,
             "#de77ae"
            ],
            [
             0.3,
             "#f1b6da"
            ],
            [
             0.4,
             "#fde0ef"
            ],
            [
             0.5,
             "#f7f7f7"
            ],
            [
             0.6,
             "#e6f5d0"
            ],
            [
             0.7,
             "#b8e186"
            ],
            [
             0.8,
             "#7fbc41"
            ],
            [
             0.9,
             "#4d9221"
            ],
            [
             1,
             "#276419"
            ]
           ],
           "sequential": [
            [
             0,
             "#0d0887"
            ],
            [
             0.1111111111111111,
             "#46039f"
            ],
            [
             0.2222222222222222,
             "#7201a8"
            ],
            [
             0.3333333333333333,
             "#9c179e"
            ],
            [
             0.4444444444444444,
             "#bd3786"
            ],
            [
             0.5555555555555556,
             "#d8576b"
            ],
            [
             0.6666666666666666,
             "#ed7953"
            ],
            [
             0.7777777777777778,
             "#fb9f3a"
            ],
            [
             0.8888888888888888,
             "#fdca26"
            ],
            [
             1,
             "#f0f921"
            ]
           ],
           "sequentialminus": [
            [
             0,
             "#0d0887"
            ],
            [
             0.1111111111111111,
             "#46039f"
            ],
            [
             0.2222222222222222,
             "#7201a8"
            ],
            [
             0.3333333333333333,
             "#9c179e"
            ],
            [
             0.4444444444444444,
             "#bd3786"
            ],
            [
             0.5555555555555556,
             "#d8576b"
            ],
            [
             0.6666666666666666,
             "#ed7953"
            ],
            [
             0.7777777777777778,
             "#fb9f3a"
            ],
            [
             0.8888888888888888,
             "#fdca26"
            ],
            [
             1,
             "#f0f921"
            ]
           ]
          },
          "colorway": [
           "#636efa",
           "#EF553B",
           "#00cc96",
           "#ab63fa",
           "#FFA15A",
           "#19d3f3",
           "#FF6692",
           "#B6E880",
           "#FF97FF",
           "#FECB52"
          ],
          "font": {
           "color": "#2a3f5f"
          },
          "geo": {
           "bgcolor": "white",
           "lakecolor": "white",
           "landcolor": "#E5ECF6",
           "showlakes": true,
           "showland": true,
           "subunitcolor": "white"
          },
          "hoverlabel": {
           "align": "left"
          },
          "hovermode": "closest",
          "mapbox": {
           "style": "light"
          },
          "paper_bgcolor": "white",
          "plot_bgcolor": "#E5ECF6",
          "polar": {
           "angularaxis": {
            "gridcolor": "white",
            "linecolor": "white",
            "ticks": ""
           },
           "bgcolor": "#E5ECF6",
           "radialaxis": {
            "gridcolor": "white",
            "linecolor": "white",
            "ticks": ""
           }
          },
          "scene": {
           "xaxis": {
            "backgroundcolor": "#E5ECF6",
            "gridcolor": "white",
            "gridwidth": 2,
            "linecolor": "white",
            "showbackground": true,
            "ticks": "",
            "zerolinecolor": "white"
           },
           "yaxis": {
            "backgroundcolor": "#E5ECF6",
            "gridcolor": "white",
            "gridwidth": 2,
            "linecolor": "white",
            "showbackground": true,
            "ticks": "",
            "zerolinecolor": "white"
           },
           "zaxis": {
            "backgroundcolor": "#E5ECF6",
            "gridcolor": "white",
            "gridwidth": 2,
            "linecolor": "white",
            "showbackground": true,
            "ticks": "",
            "zerolinecolor": "white"
           }
          },
          "shapedefaults": {
           "line": {
            "color": "#2a3f5f"
           }
          },
          "ternary": {
           "aaxis": {
            "gridcolor": "white",
            "linecolor": "white",
            "ticks": ""
           },
           "baxis": {
            "gridcolor": "white",
            "linecolor": "white",
            "ticks": ""
           },
           "bgcolor": "#E5ECF6",
           "caxis": {
            "gridcolor": "white",
            "linecolor": "white",
            "ticks": ""
           }
          },
          "title": {
           "x": 0.05
          },
          "xaxis": {
           "automargin": true,
           "gridcolor": "white",
           "linecolor": "white",
           "ticks": "",
           "title": {
            "standoff": 15
           },
           "zerolinecolor": "white",
           "zerolinewidth": 2
          },
          "yaxis": {
           "automargin": true,
           "gridcolor": "white",
           "linecolor": "white",
           "ticks": "",
           "title": {
            "standoff": 15
           },
           "zerolinecolor": "white",
           "zerolinewidth": 2
          }
         }
        },
        "title": {
         "text": "分拣业务可视化面板"
        },
        "xaxis": {
         "anchor": "y",
         "domain": [
          0,
          0.94
         ]
        },
        "xaxis2": {
         "anchor": "y3",
         "domain": [
          0,
          0.94
         ]
        },
        "xaxis3": {
         "anchor": "y5",
         "domain": [
          0,
          0.94
         ]
        },
        "yaxis": {
         "anchor": "x",
         "domain": [
          0.7777777777777778,
          1
         ],
         "title": {
          "text": "票数"
         }
        },
        "yaxis2": {
         "anchor": "x",
         "overlaying": "y",
         "side": "right",
         "title": {
          "text": "错分率(%)"
         }
        },
        "yaxis3": {
         "anchor": "x2",
         "domain": [
          0.3888888888888889,
          0.6111111111111112
         ],
         "title": {
          "text": "工时"
         }
        },
        "yaxis4": {
         "anchor": "x2",
         "overlaying": "y3",
         "side": "right",
         "title": {
          "text": "人效(票/小时)"
         }
        },
        "yaxis5": {
         "anchor": "x3",
         "domain": [
          0,
          0.22222222222222224
         ],
         "title": {
          "text": "票数"
         }
        }
       }
      },
      "image/png": "[encoded data removed]"
     },
     "metadata": {},
     "output_type": "display_data"
    }
   ],
   "source": [
    "\n",
    "\n",
    "# 创建 subplot 面板（3 行 1 列）\n",
    "fig = make_subplots(\n",
    "    rows=3, cols=1,\n",
    "    subplot_titles=(\"每日分拣总量 & 错分率\", \"每日工时 & 人效趋势\", \"人工 vs 机器分拣量\"),\n",
    "    specs=[[{\"secondary_y\": True}],\n",
    "           [{\"secondary_y\": True}],\n",
    "           [{\"secondary_y\": False}]]\n",
    ")\n",
    "\n",
    "# ==== 图1 ====\n",
    "fig.add_trace(\n",
    "    go.Bar(x=df['日期'], y=df['总集包票数'], name='总集包票数', marker_color='skyblue'),\n",
    "    row=1, col=1, secondary_y=False\n",
    ")\n",
    "fig.add_trace(\n",
    "    go.Scatter(x=df['日期'], y=df['错分率(%)'], name='错分率(%)', mode='lines+markers', line=dict(color='red')),\n",
    "    row=1, col=1, secondary_y=True\n",
    ")\n",
    "\n",
    "# ==== 图2 ====\n",
    "fig.add_trace(\n",
    "    go.Bar(x=df['日期'], y=df['JOY工时'], name='JOY工时', marker_color='orange'),\n",
    "    row=2, col=1, secondary_y=False\n",
    ")\n",
    "fig.add_trace(\n",
    "    go.Bar(x=df['日期'], y=df['DELIN工时'], name='DELIN工时', marker_color='green'),\n",
    "    row=2, col=1, secondary_y=False\n",
    ")\n",
    "fig.add_trace(\n",
    "    go.Scatter(x=df['日期'], y=df['人效(票/小时)'], name='人效(票/小时)', mode='lines+markers', line=dict(color='blue')),\n",
    "    row=2, col=1, secondary_y=True\n",
    ")\n",
    "\n",
    "# ==== 图3 ====\n",
    "fig.add_trace(\n",
    "    go.Bar(x=df['日期'], y=df['人工分拣量'], name='人工分拣量', marker_color='coral'),\n",
    "    row=3, col=1\n",
    ")\n",
    "fig.add_trace(\n",
    "    go.Bar(x=df['日期'], y=df['分拣机分拣量'], name='分拣机分拣量', marker_color='skyblue'),\n",
    "    row=3, col=1\n",
    ")\n",
    "\n",
    "# 布局设置\n",
    "fig.update_layout(\n",
    "    title_text=\"分拣业务可视化面板\",\n",
    "    barmode='stack',\n",
    "    height=900\n",
    ")\n",
    "fig.update_yaxes(title_text=\"票数\", row=1, col=1, secondary_y=False)\n",
    "fig.update_yaxes(title_text=\"错分率(%)\", row=1, col=1, secondary_y=True)\n",
    "fig.update_yaxes(title_text=\"工时\", row=2, col=1, secondary_y=False)\n",
    "fig.update_yaxes(title_text=\"人效(票/小时)\", row=2, col=1, secondary_y=True)\n",
    "fig.update_yaxes(title_text=\"票数\", row=3, col=1)\n",
    "\n",
    "fig.show()\n"
   ]
  },
  {
   "cell_type": "code",
   "execution_count": null,
   "id": "ccc3a2e7-2013-4c69-b963-35426e2920f7",
   "metadata": {},
   "outputs": [],
   "source": []
  },
  {
   "cell_type": "code",
   "execution_count": null,
   "id": "78b2d103-6e96-46b2-bdb9-e02473ed9800",
   "metadata": {},
   "outputs": [],
   "source": []
  },
  {
   "cell_type": "code",
   "execution_count": null,
   "id": "cf8d3e79-9b8c-43f6-bc57-88b9df37956d",
   "metadata": {},
   "outputs": [],
   "source": []
  },
  {
   "cell_type": "code",
   "execution_count": null,
   "id": "7e85e61b-a4b7-4818-bacd-c32ef8a8f797",
   "metadata": {},
   "outputs": [],
   "source": []
  },
  {
   "cell_type": "code",
   "execution_count": null,
   "id": "aadad834-dd28-4186-bf1d-dbaf35f35cbc",
   "metadata": {},
   "outputs": [],
   "source": []
  },
  {
   "cell_type": "code",
   "execution_count": null,
   "id": "e6b665af-04b2-48d6-a130-412ebfcab6ed",
   "metadata": {},
   "outputs": [],
   "source": []
  },
  {
   "cell_type": "code",
   "execution_count": null,
   "id": "e53103ac-a6b7-4cee-b2f2-033774d312a1",
   "metadata": {},
   "outputs": [],
   "source": []
  },
  {
   "cell_type": "code",
   "execution_count": null,
   "id": "b3ad8d82-c1e3-4f7b-8638-bcef03d52aa9",
   "metadata": {},
   "outputs": [],
   "source": []
  }
 ],
 "metadata": {
  "kernelspec": {
   "display_name": "Python 3 (ipykernel)",
   "language": "python",
   "name": "python3"
  },
  "language_info": {
   "codemirror_mode": {
    "name": "ipython",
    "version": 3
   },
   "file_extension": ".py",
   "mimetype": "text/x-python",
   "name": "python",
   "nbconvert_exporter": "python",
   "pygments_lexer": "ipython3",
   "version": "3.9.21"
  }
 },
 "nbformat": 4,
 "nbformat_minor": 5
}
